{
 "cells": [
  {
   "cell_type": "markdown",
   "source": [
    "# CSE111 Lab Assignment 03\r\n",
    "## Name: Mirza Mahrab Hossain"
   ],
   "metadata": {}
  },
  {
   "cell_type": "code",
   "execution_count": 1,
   "source": [
    "# Problem -01\r\n",
    "\r\n",
    "\r\n",
    "class DataType:\r\n",
    "    def __init__(self, name, value):\r\n",
    "        self.name = name\r\n",
    "        self.value = value\r\n",
    "\r\n",
    "\r\n",
    "data_type1 = DataType(\"Integer\", 1234)\r\n",
    "print(data_type1.name)\r\n",
    "print(data_type1.value)\r\n",
    "print(\"=====================\")\r\n",
    "data_type2 = DataType(\"String\", \"Hello\")\r\n",
    "print(data_type2.name)\r\n",
    "print(data_type2.value)\r\n",
    "print(\"=====================\")\r\n",
    "data_type3 = DataType(\"Float\", 4.0)\r\n",
    "print(data_type3.name)\r\n",
    "print(data_type3.value)\r\n"
   ],
   "outputs": [
    {
     "output_type": "stream",
     "name": "stdout",
     "text": [
      "Integer\n",
      "1234\n",
      "=====================\n",
      "String\n",
      "Hello\n",
      "=====================\n",
      "Float\n",
      "4.0\n"
     ]
    }
   ],
   "metadata": {}
  },
  {
   "cell_type": "code",
   "execution_count": 2,
   "source": [
    "# Problem -02\r\n",
    "\r\n",
    "\r\n",
    "class Flower:\r\n",
    "    def __init__(self):\r\n",
    "        pass\r\n",
    "\r\n",
    "\r\n",
    "flower1 = Flower()\r\n",
    "flower1.name = \"Rose\"\r\n",
    "flower1.color = \"Red\"\r\n",
    "flower1.num_of_petal = 6\r\n",
    "print(\"Name of this flower:\", flower1.name)\r\n",
    "print(\"Color of this flower:\", flower1.color)\r\n",
    "print(\"Number of petal:\", flower1.num_of_petal)\r\n",
    "print(\"=====================\")\r\n",
    "# ======================================================================#\r\n",
    "flower2 = Flower()\r\n",
    "flower2.name = \"Orchid\"\r\n",
    "flower2.color = \"Purple\"\r\n",
    "flower2.num_of_petal = 4\r\n",
    "print(\"Name of this flower:\", flower2.name)\r\n",
    "print(\"Color of this flower:\", flower2.color)\r\n",
    "print(\"Number of petal:\", flower2.num_of_petal)\r\n",
    "# ======================================================================#\r\n",
    "print(\"flower1 memory adress: \", flower1)\r\n",
    "print(\"flower2 memory adress: \", flower2)\r\n",
    "if flower2 == flower1:\r\n",
    "    print(\"They are same\")\r\n",
    "else:\r\n",
    "    print(\"They are different\")\r\n"
   ],
   "outputs": [
    {
     "output_type": "stream",
     "name": "stdout",
     "text": [
      "Name of this flower: Rose\n",
      "Color of this flower: Red\n",
      "Number of petal: 6\n",
      "=====================\n",
      "Name of this flower: Orchid\n",
      "Color of this flower: Purple\n",
      "Number of petal: 4\n",
      "flower1 memory adress:  <__main__.Flower object at 0x000002060865AD90>\n",
      "flower2 memory adress:  <__main__.Flower object at 0x0000020608769AF0>\n",
      "They are different\n"
     ]
    }
   ],
   "metadata": {}
  },
  {
   "cell_type": "code",
   "execution_count": 3,
   "source": [
    "# Problem -03\r\n",
    "\r\n",
    "\r\n",
    "class Wadiya:\r\n",
    "    def __init__(self):\r\n",
    "        self.name = \"Aladeen\"\r\n",
    "        self.designation = \"President Prime Minister Admiral General\"\r\n",
    "        self.num_of_wife = 100\r\n",
    "        self.dictator = True\r\n",
    "\r\n",
    "\r\n",
    "wadiya = Wadiya()\r\n",
    "print(\"Part 1:\")\r\n",
    "print(f\"Name of President: {wadiya.name}\")\r\n",
    "print(f\"Designation: {wadiya.designation}\")\r\n",
    "print(f\"Number of wife: {wadiya.num_of_wife}\")\r\n",
    "print(f\"Is he/she a dictator: {wadiya.dictator}\")\r\n",
    "print(\"=====================\")\r\n",
    "# ==================================================================== #\r\n",
    "# Changing values\r\n",
    "wadiya.name = \"Donald-Trump\"\r\n",
    "wadiya.designation = \"President\"\r\n",
    "wadiya.num_of_wife = 1\r\n",
    "wadiya.dictator = False\r\n",
    "# ==================================================================== #\r\n",
    "print(\"Part 2:\")\r\n",
    "print(f\"Name of President: {wadiya.name}\")\r\n",
    "print(f\"Designation: {wadiya.designation}\")\r\n",
    "print(f\"Number of wife: {wadiya.num_of_wife}\")\r\n",
    "print(f\"Is he/she a dictator: {wadiya.dictator}\")\r\n",
    "print(\"=====================\")\r\n",
    "print(\"privious information lost\")\r\n"
   ],
   "outputs": [
    {
     "output_type": "stream",
     "name": "stdout",
     "text": [
      "Part 1:\n",
      "Name of President: Aladeen\n",
      "Designation: President Prime Minister Admiral General\n",
      "Number of wife: 100\n",
      "Is he/she a dictator: True\n",
      "=====================\n",
      "Part 2:\n",
      "Name of President: Donald-Trump\n",
      "Designation: President\n",
      "Number of wife: 1\n",
      "Is he/she a dictator: False\n",
      "=====================\n",
      "privious information lost\n"
     ]
    }
   ],
   "metadata": {}
  },
  {
   "cell_type": "code",
   "execution_count": 4,
   "source": [
    "# Problem -04\r\n",
    "\r\n",
    "\r\n",
    "class Joker:\r\n",
    "    def __init__(self, name, power, is_he_psycho):\r\n",
    "        self.name = name\r\n",
    "        self.power = power\r\n",
    "        self.is_he_psycho = is_he_psycho\r\n",
    "\r\n",
    "\r\n",
    "j1 = Joker(\"Heath Ledger\", \"Mind Game\", False)\r\n",
    "print(j1.name)\r\n",
    "print(j1.power)\r\n",
    "print(j1.is_he_psycho)\r\n",
    "print(\"=====================\")\r\n",
    "j2 = Joker(\"Joaquin Phoenix\", \"Laughing out Loud\", True)\r\n",
    "print(j2.name)\r\n",
    "print(j2.power)\r\n",
    "print(j2.is_he_psycho)\r\n",
    "print(\"=====================\")\r\n",
    "\r\n",
    "if j1 == j2:\r\n",
    "    print(\"same\")\r\n",
    "else:\r\n",
    "    print(\"different\")\r\n",
    "\r\n",
    "j2.name = \"Heath Ledger\"\r\n",
    "if j1.name == j2.name:\r\n",
    "    print(\"same\")\r\n",
    "else:\r\n",
    "    print(\"different\")\r\n",
    "\r\n",
    "print(\"=====================\")\r\n",
    "# Subtask -2\r\n",
    "print(\r\n",
    "    \"Because they are 2 different instances of Joker class & their memory locations are different\"\r\n",
    ")\r\n",
    "# Subtask -3\r\n",
    "print(\"Because j1.name & j2.name have the same string.\")\r\n"
   ],
   "outputs": [
    {
     "output_type": "stream",
     "name": "stdout",
     "text": [
      "Heath Ledger\n",
      "Mind Game\n",
      "False\n",
      "=====================\n",
      "Joaquin Phoenix\n",
      "Laughing out Loud\n",
      "True\n",
      "=====================\n",
      "different\n",
      "same\n",
      "=====================\n",
      "Because they are 2 different instances of Joker class & their memory locations are different\n",
      "Because j1.name & j2.name have the same string.\n"
     ]
    }
   ],
   "metadata": {}
  },
  {
   "cell_type": "code",
   "execution_count": 5,
   "source": [
    "#Problem -05\r\n",
    "\r\n",
    "\r\n",
    "class Pokemon:\r\n",
    "    def __init__(\r\n",
    "        self, pokemon1_name, pokemon2_name, pokemon1_power, pokemon2_power, damage_rate\r\n",
    "    ):\r\n",
    "        self.pokemon1_name = pokemon1_name\r\n",
    "        self.pokemon2_name = pokemon2_name\r\n",
    "        self.pokemon1_power = pokemon1_power\r\n",
    "        self.pokemon2_power = pokemon2_power\r\n",
    "        self.damage_rate = damage_rate\r\n",
    "\r\n",
    "\r\n",
    "team_pika = Pokemon(\"pikachu\", \"charmander\", 90, 60, 10)\r\n",
    "print(\"=======Team 1=======\")\r\n",
    "print(\"Pokemon 1:\", team_pika.pokemon1_name, team_pika.pokemon1_power)\r\n",
    "print(\"Pokemon 2:\", team_pika.pokemon2_name, team_pika.pokemon2_power)\r\n",
    "pika_combined_power = (\r\n",
    "    team_pika.pokemon1_power + team_pika.pokemon2_power\r\n",
    ") * team_pika.damage_rate\r\n",
    "print(\"Combined Power:\", pika_combined_power)\r\n",
    "# ============================================================================== #\r\n",
    "team_bulb = Pokemon(\"bulbasaur\", \"squirtle\", 80, 70, 9)\r\n",
    "print(\"=======Team 1=======\")\r\n",
    "print(\"Pokemon 1:\", team_bulb.pokemon1_name, team_bulb.pokemon1_power)\r\n",
    "print(\"Pokemon 2:\", team_bulb.pokemon2_name, team_bulb.pokemon2_power)\r\n",
    "bulb_combined_power = (\r\n",
    "    team_bulb.pokemon1_power + team_bulb.pokemon2_power\r\n",
    ") * team_bulb.damage_rate\r\n",
    "print(\"Combined Power:\", bulb_combined_power)\r\n"
   ],
   "outputs": [
    {
     "output_type": "stream",
     "name": "stdout",
     "text": [
      "=======Team 1=======\n",
      "Pokemon 1: pikachu 90\n",
      "Pokemon 2: charmander 60\n",
      "Combined Power: 1500\n",
      "=======Team 1=======\n",
      "Pokemon 1: bulbasaur 80\n",
      "Pokemon 2: squirtle 70\n",
      "Combined Power: 1350\n"
     ]
    }
   ],
   "metadata": {}
  },
  {
   "cell_type": "code",
   "execution_count": 6,
   "source": [
    "#Problem -06\r\n",
    "\r\n",
    "\r\n",
    "class Player:\r\n",
    "    def __init__(self):\r\n",
    "        pass\r\n",
    "\r\n",
    "\r\n",
    "player1 = Player()\r\n",
    "player1.name = \"Ronaldo\"\r\n",
    "player1.jersy_number = 9\r\n",
    "player1.position = \"Striker\"\r\n",
    "print(\"Name of the Player:\", player1.name)\r\n",
    "print(\"Jersey Number of player:\", player1.jersy_number)\r\n",
    "print(\"Position of player:\", player1.position)\r\n",
    "print(\"===========================\")\r\n",
    "player2 = Player()\r\n",
    "player2.name = \"Neuer\"\r\n",
    "player2.jersy_number = 1\r\n",
    "player2.position = \"Goal Keeper\"\r\n",
    "print(\"Name of the player:\", player2.name)\r\n",
    "print(\"Jersey Number of player:\", player2.jersy_number)\r\n",
    "print(\"Position of player:\", player2.position)\r\n"
   ],
   "outputs": [
    {
     "output_type": "stream",
     "name": "stdout",
     "text": [
      "Name of the Player: Ronaldo\n",
      "Jersey Number of player: 9\n",
      "Position of player: Striker\n",
      "===========================\n",
      "Name of the player: Neuer\n",
      "Jersey Number of player: 1\n",
      "Position of player: Goal Keeper\n"
     ]
    }
   ],
   "metadata": {}
  },
  {
   "cell_type": "code",
   "execution_count": 7,
   "source": [
    "#Problem -07\r\n",
    "\r\n",
    "\r\n",
    "class Country:\r\n",
    "    def __init__(self):\r\n",
    "        self.name = \"Bangladesh\"\r\n",
    "        self.continent = \"Asia\"\r\n",
    "        self.capital = \"Dhaka\"\r\n",
    "        self.fifa_ranking = 187\r\n",
    "\r\n",
    "\r\n",
    "country = Country()\r\n",
    "print(\"Name:\", country.name)\r\n",
    "print(\"Continent:\", country.continent)\r\n",
    "print(\"Capital:\", country.capital)\r\n",
    "print(\"Fifa Ranking:\", country.fifa_ranking)\r\n",
    "print(\"===================\")\r\n",
    "country.name = \"Belgium\"\r\n",
    "country.continent = \"Europe\"\r\n",
    "country.capital = \"Brussels\"\r\n",
    "country.fifa_ranking = 1\r\n",
    "print(\"Name:\", country.name)\r\n",
    "print(\"Continent:\", country.continent)\r\n",
    "print(\"Capital:\", country.capital)\r\n",
    "print(\"Fifa Ranking:\", country.fifa_ranking)\r\n"
   ],
   "outputs": [
    {
     "output_type": "stream",
     "name": "stdout",
     "text": [
      "Name: Bangladesh\n",
      "Continent: Asia\n",
      "Capital: Dhaka\n",
      "Fifa Ranking: 187\n",
      "===================\n",
      "Name: Belgium\n",
      "Continent: Europe\n",
      "Capital: Brussels\n",
      "Fifa Ranking: 1\n"
     ]
    }
   ],
   "metadata": {}
  },
  {
   "cell_type": "code",
   "execution_count": 8,
   "source": [
    "#Problem -08\r\n",
    "\r\n",
    "\r\n",
    "class DemonSlayer:\r\n",
    "    def __init__(self, name, style, number_of_technique, kill):\r\n",
    "        self.name = name\r\n",
    "        self.style = style\r\n",
    "        self.number_of_technique = number_of_technique\r\n",
    "        self.kill = kill\r\n",
    "\r\n",
    "\r\n",
    "tanjiro = DemonSlayer(\"Tanjiro\", \"Water Breathing\", 10, 10)\r\n",
    "print(\"Name:\", tanjiro.name)\r\n",
    "print(\"Fighting Style:\", tanjiro.style)\r\n",
    "print(\r\n",
    "    f\"Knows {tanjiro.number_of_technique} technique(s) and has killed {tanjiro.kill} demon(s)\"\r\n",
    ")\r\n",
    "print(\"===================\")\r\n",
    "zenitsu = DemonSlayer(\"Zenitsu\", \"Thunder Breathing\", 1, 4)\r\n",
    "print(\"Name:\", zenitsu.name)\r\n",
    "print(\"Fighting Style:\", zenitsu.style)\r\n",
    "print(\r\n",
    "    f\"Knows {zenitsu.number_of_technique} technique(s) and has killed {zenitsu.kill} demon(s)\"\r\n",
    ")\r\n",
    "print(\"===================\")\r\n",
    "inosuke = DemonSlayer(\"Inosuke\", \"Beast Breathing\", 5, 7)\r\n",
    "print(\"Name:\", inosuke.name)\r\n",
    "print(\"Fighting Style:\", inosuke.style)\r\n",
    "print(\r\n",
    "    f\"Knows {inosuke.number_of_technique} technique(s) and has killed {inosuke.kill} demon(s)\"\r\n",
    ")\r\n",
    "print(\"===================\")\r\n",
    "print(\r\n",
    "    f\"{tanjiro.name}, {zenitsu.name}, {inosuke.name} knows total {tanjiro.number_of_technique + zenitsu.number_of_technique + inosuke.number_of_technique} techniques\"\r\n",
    ")\r\n",
    "print(f\"They have killed total {tanjiro.kill + zenitsu.kill + inosuke.kill} demons\")\r\n"
   ],
   "outputs": [
    {
     "output_type": "stream",
     "name": "stdout",
     "text": [
      "Name: Tanjiro\n",
      "Fighting Style: Water Breathing\n",
      "Knows 10 technique(s) and has killed 10 demon(s)\n",
      "===================\n",
      "Name: Zenitsu\n",
      "Fighting Style: Thunder Breathing\n",
      "Knows 1 technique(s) and has killed 4 demon(s)\n",
      "===================\n",
      "Name: Inosuke\n",
      "Fighting Style: Beast Breathing\n",
      "Knows 5 technique(s) and has killed 7 demon(s)\n",
      "===================\n",
      "Tanjiro, Zenitsu, Inosuke knows total 16 techniques\n",
      "They have killed total 21 demons\n"
     ]
    }
   ],
   "metadata": {}
  }
 ],
 "metadata": {
  "kernelspec": {
   "display_name": "Python 3 (ipykernel)",
   "language": "python",
   "name": "python3"
  },
  "language_info": {
   "codemirror_mode": {
    "name": "ipython",
    "version": 3
   },
   "file_extension": ".py",
   "mimetype": "text/x-python",
   "name": "python",
   "nbconvert_exporter": "python",
   "pygments_lexer": "ipython3",
   "version": "3.9.2"
  }
 },
 "nbformat": 4,
 "nbformat_minor": 2
}