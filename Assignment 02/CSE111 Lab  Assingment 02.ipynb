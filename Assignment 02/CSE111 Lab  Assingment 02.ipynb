{
 "cells": [
  {
   "cell_type": "markdown",
   "source": [
    "# CSE111 Lab Assignment 02\r\n",
    "## Name: Mirza Mahrab Hossain"
   ],
   "metadata": {}
  },
  {
   "cell_type": "code",
   "execution_count": 19,
   "source": [
    "# Problem -1\r\n",
    "\r\n",
    "\r\n",
    "def div_frac(numerator, denominator):\r\n",
    "    \"\"\"\r\n",
    "    Given two numbers as input, this function divide one\r\n",
    "    number by another and returns the the fraction part of\r\n",
    "    the result.\r\n",
    "\r\n",
    "    Exception: if the denominator is 0 then it returns 0.\r\n",
    "    \"\"\"\r\n",
    "    if denominator == 0:\r\n",
    "        return 0\r\n",
    "    else:\r\n",
    "        result = (numerator / denominator) - (numerator // denominator)\r\n",
    "        if result == 0.0:\r\n",
    "            return 0\r\n",
    "        else:\r\n",
    "            return result\r\n",
    "\r\n",
    "print(div_frac(5, 2))\r\n",
    "print(div_frac(5, 0))\r\n",
    "print(div_frac(0, 5))\r\n",
    "\r\n",
    "# print(div_frac.__doc__)   # Access Docstring\r\n"
   ],
   "outputs": [
    {
     "output_type": "stream",
     "name": "stdout",
     "text": [
      "0.5\n",
      "0\n",
      "0\n"
     ]
    }
   ],
   "metadata": {}
  },
  {
   "cell_type": "code",
   "execution_count": 20,
   "source": [
    "# Problem -2\r\n",
    "\r\n",
    "\r\n",
    "def BMI_Calc(height, weight):\r\n",
    "    \"\"\"\r\n",
    "    Given height and weight as input, this function\r\n",
    "    calculate the BMI of a person with the following\r\n",
    "    formula:\r\n",
    "            BMI = Kg / 𝑚^2\r\n",
    "    Then it returns the BMI and the following comment\r\n",
    "    based on BMI score:\r\n",
    "            * < 18.5 - Underweight\r\n",
    "            * 18.5 - 24.9 - Normal\r\n",
    "            * 25 - 30 - Overweight\r\n",
    "            * > 30 - Obese\r\n",
    "    \"\"\"\r\n",
    "    height = height / 100  # Converting cm to meter\r\n",
    "    BMI = weight / height ** 2\r\n",
    "\r\n",
    "    if BMI < 18.5:\r\n",
    "        comment = \"Underweight\"\r\n",
    "    elif BMI >= 18.5 and BMI <= 24.9:\r\n",
    "        comment = \"Normal\"\r\n",
    "    elif BMI >= 25 and BMI <= 30:\r\n",
    "        comment = \"Overweight\"\r\n",
    "    elif BMI > 30:\r\n",
    "        comment = \"Obese\"\r\n",
    "\r\n",
    "    return f\"Score is {BMI:.1f}. You are {comment}\"\r\n",
    "\r\n",
    "\r\n",
    "print(BMI_Calc(175, 96))\r\n",
    "print(BMI_Calc(152, 48))\r\n",
    "\r\n",
    "# height = int(input())\r\n",
    "# weight = int(input())\r\n",
    "# print(BMI_Calc(height, weight))\r\n",
    "\r\n",
    "# print(BMI_Calc.__doc__)   # Access Docstring\r\n"
   ],
   "outputs": [
    {
     "output_type": "stream",
     "name": "stdout",
     "text": [
      "Score is 31.3. You are Obese\n",
      "Score is 20.8. You are Normal\n"
     ]
    }
   ],
   "metadata": {}
  },
  {
   "cell_type": "code",
   "execution_count": 21,
   "source": [
    "# Problem -3\r\n",
    "\r\n",
    "\r\n",
    "def div_sum(min, max, div):\r\n",
    "    \"\"\"\r\n",
    "    This function takes 3 number maximum, minimum and divisor\r\n",
    "    as input. Then it finds all the number divisible by the\r\n",
    "    divisor between minimum and maximum value. Then it returns\r\n",
    "    the sum of these number.\r\n",
    "    \"\"\"\r\n",
    "    if div != 0:\r\n",
    "\r\n",
    "        # Without using sum()\r\n",
    "        # Sum = 0\r\n",
    "        # for num in range(min, max):\r\n",
    "        #    if num % div == 0:\r\n",
    "        #        Sum += num\r\n",
    "        # return Sum\r\n",
    "\r\n",
    "        return sum(num for num in range(min, max) if num % div == 0)\r\n",
    "\r\n",
    "    else:\r\n",
    "        return \"Divisor cannot be 0.\"\r\n",
    "\r\n",
    "\r\n",
    "print(div_sum(0, 10, 2))\r\n",
    "print(div_sum(3, 16, 3))\r\n",
    "print(div_sum(1, 15, 0))\r\n",
    "\r\n",
    "\r\n",
    "# minimum = int(input(\"Minimum: \"))\r\n",
    "# maximum = int(input(\"Maximum: \"))\r\n",
    "# divisor = int(input(\"Divisor: \"))\r\n",
    "# print(div_sum(minimum, maximum, divisor))\r\n",
    "\r\n",
    "# print(div_sum.__doc__)   # Access Docstring\r\n"
   ],
   "outputs": [
    {
     "output_type": "stream",
     "name": "stdout",
     "text": [
      "20\n",
      "45\n",
      "Divisor cannot be 0.\n"
     ]
    }
   ],
   "metadata": {}
  },
  {
   "cell_type": "code",
   "execution_count": 22,
   "source": [
    "# Problem -4\r\n",
    "\r\n",
    "\r\n",
    "def foodpanda(food, location=\"Mohakhali\"):\r\n",
    "    \"\"\"\r\n",
    "    Given food name and location, this function calculates\r\n",
    "    the total price for the food order and returns the\r\n",
    "    total price.\r\n",
    "    \"\"\"\r\n",
    "    if location != \"Mohakhali\":\r\n",
    "        delivery_charge = 60\r\n",
    "    else:\r\n",
    "        delivery_charge = 40\r\n",
    "\r\n",
    "    if food == \"BBQ Chicken Chesse Burger\":\r\n",
    "        meal_cost = 250\r\n",
    "    elif food == \"Beef Burger\":\r\n",
    "        meal_cost = 170\r\n",
    "    elif food == \"Naga Drums\":\r\n",
    "        meal_cost = 200\r\n",
    "    else:\r\n",
    "        return \"The food is not on the Menu.\"\r\n",
    "\r\n",
    "    tax = meal_cost * (8 / 100)\r\n",
    "\r\n",
    "    Total_Price = meal_cost + delivery_charge + tax\r\n",
    "    return Total_Price\r\n",
    "\r\n",
    "\r\n",
    "print(foodpanda(\"Beef Burger\", \"Dhanmondi\"))\r\n",
    "print(foodpanda(\"Beef Burger\"))\r\n",
    "\r\n",
    "# food = input()\r\n",
    "# location = input()\r\n",
    "\r\n",
    "# if location != \"\":\r\n",
    "#    print(foodpanda(food, location))\r\n",
    "# else:\r\n",
    "#    print(foodpanda(food))\r\n",
    "\r\n",
    "# print(foodpanda.__doc__)   # Access Docstring\r\n"
   ],
   "outputs": [
    {
     "output_type": "stream",
     "name": "stdout",
     "text": [
      "243.6\n",
      "223.6\n"
     ]
    }
   ],
   "metadata": {}
  },
  {
   "cell_type": "code",
   "execution_count": 23,
   "source": [
    "# Problem -5\n",
    "\n",
    "\n",
    "def replace_domain(email, domain, old_domain=\"kaaj.com\"):\n",
    "    \"\"\"\n",
    "    This function takes email, domain and old domain\n",
    "    as 3 input. If email contains the old domain then\n",
    "    it changes it to the new domain. Then it returns the\n",
    "    email with a comment regarding wheater the email has been\n",
    "    changed or not.\n",
    "    \"\"\"\n",
    "    new_email = \"\"\n",
    "    index = -1\n",
    "    for char in range(len(email)):\n",
    "        if email[char] == \"@\":\n",
    "            index = char\n",
    "            break\n",
    "\n",
    "    if index == -1:\n",
    "        return \"Incorrect E-Mail Adress!\"\n",
    "\n",
    "    new_email = email[: index + 1]\n",
    "\n",
    "    if old_domain in email:\n",
    "        new_email += domain\n",
    "        comment = \"Changed\"\n",
    "    else:\n",
    "        new_email += domain\n",
    "        comment = \"Unchanged\"\n",
    "\n",
    "    return f\"{comment}: {new_email}\"\n",
    "\n",
    "\n",
    "print(replace_domain(\"alice@kaaj.com\", \"sheba.xyz\", \"kaaj.com\"))\n",
    "print(replace_domain(\"bob@sheba.xyz\", \"sheba.xyz\"))\n",
    "print(replace_domain(\"bobsheba.xyz\", \"sheba.xyz\"))\n",
    "\n",
    "# print(replace_domain.__doc__)   # Acess Docstring.\n"
   ],
   "outputs": [
    {
     "output_type": "stream",
     "name": "stdout",
     "text": [
      "Changed: alice@sheba.xyz\n",
      "Unchanged: bob@sheba.xyz\n",
      "Incorrect E-Mail Adress!\n"
     ]
    }
   ],
   "metadata": {}
  },
  {
   "cell_type": "code",
   "execution_count": 24,
   "source": [
    "#Problem -6\r\n",
    "\r\n",
    "\r\n",
    "def vowel(string):\r\n",
    "    '''\r\n",
    "    Given a string, this function search for any vowels in the given string\r\n",
    "    and returns the founded vowels and the vowel count as output. If no \r\n",
    "    vowel found, it returns \"No vowels in the name\". \r\n",
    "    '''\r\n",
    "    vowel = \"aeiouAEIOU\"\r\n",
    "    vowel_in, total = \"\" , 0\r\n",
    "\r\n",
    "    for char in string:\r\n",
    "        if char in vowel:\r\n",
    "            vowel_in += char + \", \"    \r\n",
    "            total += 1\r\n",
    "\r\n",
    "    if total == 0:\r\n",
    "        return \"No vowels in the name\"\r\n",
    "    else:\r\n",
    "        return f\"Vowels: {vowel_in[:-2]}. Total number of vowels: {total}\"\r\n",
    "\r\n",
    "print(vowel(\"Steve Jobs\"))\r\n",
    "print(vowel(\"XYZ\"))\r\n",
    "print(vowel(\"Anime\"))\r\n",
    "print(vowel(\"AeIoU\"))\r\n",
    "\r\n",
    "#print(vowel.__doc__)   # Acess Docstring.\r\n"
   ],
   "outputs": [
    {
     "output_type": "stream",
     "name": "stdout",
     "text": [
      "Vowels: e, e, o. Total number of vowels: 3\n",
      "No vowels in the name\n",
      "Vowels: A, i, e. Total number of vowels: 3\n",
      "Vowels: A, e, I, o, U. Total number of vowels: 5\n"
     ]
    }
   ],
   "metadata": {}
  },
  {
   "cell_type": "code",
   "execution_count": 26,
   "source": [
    "# Problem -7\r\n",
    "\r\n",
    "\r\n",
    "def ispalindrome(word):\r\n",
    "    \"\"\"\r\n",
    "    Given a string as input, this function checks wheater\r\n",
    "    the string is a palindrome or not. If yes, it prints\r\n",
    "    \"Palindrome\" otherwise \"Not a palindrome\".\r\n",
    "    \"\"\"\r\n",
    "    string = \"\"\r\n",
    "    for char in word:\r\n",
    "        if char != \" \":\r\n",
    "            string += char\r\n",
    "\r\n",
    "    if string == string[::-1]:\r\n",
    "        print(\"Palindrome\")\r\n",
    "    else:\r\n",
    "        print(\"Not a palindrome\")\r\n",
    "\r\n",
    "\r\n",
    "word = input().lower()\r\n",
    "ispalindrome(word)\r\n",
    "\r\n",
    "# print(ispalindrome.__doc__)   # Access Docstring\r\n"
   ],
   "outputs": [
    {
     "output_type": "stream",
     "name": "stdout",
     "text": [
      "nurses run\n",
      "Palindrome\n"
     ]
    }
   ],
   "metadata": {}
  },
  {
   "cell_type": "code",
   "execution_count": 27,
   "source": [
    "#Problem -8\r\n",
    "\r\n",
    "\r\n",
    "def day_to_year(day):\r\n",
    "    \"\"\"\r\n",
    "    Given number of days as input, this function convert and returns the\r\n",
    "    days into years, month and remaining days.\r\n",
    "    \"\"\"\r\n",
    "    year = day // 365\r\n",
    "    day = day % (year * 365)\r\n",
    "    month = day // 30\r\n",
    "    day = day % (month * 30)\r\n",
    "\r\n",
    "    return f\"{year} years, {month} months and {day} days\"\r\n",
    "\r\n",
    "\r\n",
    "print(day_to_year(4320))\r\n",
    "print(day_to_year(4000))\r\n",
    "\r\n",
    "# print(day_to_year.__doc__)   # Access Docstring\r\n"
   ],
   "outputs": [
    {
     "output_type": "stream",
     "name": "stdout",
     "text": [
      "11 years, 10 months and 5 days\n",
      "10 years, 11 months and 20 days\n"
     ]
    }
   ],
   "metadata": {}
  },
  {
   "cell_type": "code",
   "execution_count": 28,
   "source": [
    "#Problem -9\r\n",
    "\r\n",
    "\r\n",
    "def capitalize(string):\r\n",
    "    \"\"\"\r\n",
    "    Given a string with incorrect caplitalization, this\r\n",
    "    function correctly capitalize the string and then\r\n",
    "    returns it.\r\n",
    "    \"\"\"\r\n",
    "    if string != \"\":\r\n",
    "        if string[0] >= chr(97) and string[0] <= chr(122):\r\n",
    "            capitalized_str = chr(ord(string[0]) - 32)\r\n",
    "        else:\r\n",
    "            capitalized_str = string[0]\r\n",
    "\r\n",
    "        for index in range(1, len(string)):\r\n",
    "            if (\r\n",
    "                string[index - 1] == \" \"\r\n",
    "                and string[index] == \"i\"\r\n",
    "                and string[index + 1] == \" \"\r\n",
    "            ):\r\n",
    "                capitalized_str += \"I\"\r\n",
    "\r\n",
    "            elif (\r\n",
    "                string[index - 2] == \".\"\r\n",
    "                or string[index - 2] == \"!\"\r\n",
    "                or string[index - 2] == \"?\"\r\n",
    "            ):\r\n",
    "                capitalized_str += chr(ord(string[index]) - 32)\r\n",
    "\r\n",
    "            else:\r\n",
    "                capitalized_str += string[index]\r\n",
    "\r\n",
    "        return capitalized_str\r\n",
    "\r\n",
    "    else:\r\n",
    "        return \"Please enter a valid string.\"\r\n",
    "\r\n",
    "\r\n",
    "print(\r\n",
    "    capitalize(\r\n",
    "        \"my favourite animal is a dog. a dog has sharp teeth so that it can eat flesh very easily. do you know my pet dog’s name? i love my pet very much.\"\r\n",
    "    )\r\n",
    ")\r\n",
    "\r\n",
    "print(capitalize(\"\"))\r\n",
    "\r\n",
    "# print(capitalize.__doc__)   # Access Docstring\r\n"
   ],
   "outputs": [
    {
     "output_type": "stream",
     "name": "stdout",
     "text": [
      "MY favourite animal is a dog. A dog has sharp teeth so that it can eat flesh very easily. Do you know my pet dog’s name? I love my pet very much.\n",
      "Please enter a valid string.\n"
     ]
    }
   ],
   "metadata": {}
  }
 ],
 "metadata": {
  "interpreter": {
   "hash": "8af1761716a76b0e6c34e8ab1955f7d040ddbb92ce6f164b04e94823a5e7cc4b"
  },
  "kernelspec": {
   "display_name": "Python 3 (ipykernel)",
   "language": "python",
   "name": "python3"
  },
  "language_info": {
   "codemirror_mode": {
    "name": "ipython",
    "version": 3
   },
   "file_extension": ".py",
   "mimetype": "text/x-python",
   "name": "python",
   "nbconvert_exporter": "python",
   "pygments_lexer": "ipython3",
   "version": "3.9.2"
  }
 },
 "nbformat": 4,
 "nbformat_minor": 2
}