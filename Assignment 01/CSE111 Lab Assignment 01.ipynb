{
 "cells": [
  {
   "cell_type": "markdown",
   "source": [
    "# CSE111 Lab Assignment 01\r\n",
    "## Name: Mirza Mahrab Hossain"
   ],
   "metadata": {}
  },
  {
   "cell_type": "markdown",
   "source": [
    "## String Problems\n",
    "\n"
   ],
   "metadata": {}
  },
  {
   "cell_type": "code",
   "execution_count": 10,
   "source": [
    "# Problem -1\r\n",
    "\r\n",
    "\r\n",
    "def case_converter(string):\r\n",
    "    \"\"\"\r\n",
    "    Given string as input, if string has more uppercase letters \r\n",
    "    than lowercase print string in all uppercase. Otherwise, does\r\n",
    "    the oppsite.\r\n",
    "    \"\"\"\r\n",
    "    #We can get the uppercase and lowercase letter count by this method. But using map and sum is more cleaner method.\r\n",
    "    #\r\n",
    "    #lower_case = \"\"\r\n",
    "    #upper_case = \"\"\r\n",
    "    #for char in string:\r\n",
    "    #    if ord(char) >= 65 and ord(char) <= 90:\r\n",
    "    #        upper_case += char\r\n",
    "    #    else:                      #Since input only contains uppercase and lowercase, checking one condition should be enough.\r\n",
    "    #        lower_case += char\r\n",
    "    #\r\n",
    "    #total_lower = len(lower_case)\r\n",
    "    #total_upper = len(upper_case)\r\n",
    "    \r\n",
    "        \r\n",
    "    total_lower = sum(map(str.islower, string))\r\n",
    "    total_upper = sum(map(str.isupper, string))\r\n",
    "    \r\n",
    "\r\n",
    "    if total_upper > total_lower:\r\n",
    "        return string.upper()\r\n",
    "    else:\r\n",
    "        return string.lower()\r\n",
    "\r\n",
    "\r\n",
    "user_input = input()\r\n",
    "result = case_converter(user_input) \r\n",
    "print(result)\r\n",
    "\r\n",
    "# print(case_converter.__doc__)   # Access docstring"
   ],
   "outputs": [
    {
     "output_type": "stream",
     "name": "stdout",
     "text": [
      "BaNaNa\n",
      "banana\n"
     ]
    }
   ],
   "metadata": {}
  },
  {
   "cell_type": "code",
   "execution_count": 8,
   "source": [
    "#Problem -2\r\n",
    "\r\n",
    "\r\n",
    "def char_checker(string):\r\n",
    "    \"\"\"\r\n",
    "    Check wheater a string is number, word or mixed with digits and letters.\r\n",
    "    \"\"\"\r\n",
    "    ref_str = \"0123456789\"\r\n",
    "    len_str = len(string)\r\n",
    "    count = 0\r\n",
    "\r\n",
    "    for i in string:\r\n",
    "        if i in ref_str:\r\n",
    "            count += 1\r\n",
    "\r\n",
    "    if count == 0:\r\n",
    "        print(\"WORD\")\r\n",
    "    elif count < len_str:\r\n",
    "        print(\"MIXED\")\r\n",
    "    elif count == len_str:\r\n",
    "        print(\"NUMBER\")\r\n",
    "\r\n",
    "\r\n",
    "user_input = input()\r\n",
    "char_checker(user_input)\r\n"
   ],
   "outputs": [
    {
     "output_type": "stream",
     "name": "stdout",
     "text": [
      "jhg231j213\n",
      "MIXED\n"
     ]
    }
   ],
   "metadata": {}
  },
  {
   "cell_type": "code",
   "execution_count": 9,
   "source": [
    "#Problem -3\r\n",
    "\r\n",
    "\r\n",
    "def lower_substr(string):\r\n",
    "    \"\"\"\r\n",
    "    Given a string with two uppercase characters, prints the lowercase characters \r\n",
    "    between the two uppercase characters.\r\n",
    "    \"\"\"\r\n",
    "    upper_count = sum(map(str.isupper, string))\r\n",
    "    if upper_count == 2:\r\n",
    "        for i in string:\r\n",
    "            if i.isupper():\r\n",
    "                start = string.find(i)\r\n",
    "                new_str = string.replace(i, i.lower())\r\n",
    "                break\r\n",
    "\r\n",
    "        for i in new_str:\r\n",
    "            if i.isupper():\r\n",
    "                end = new_str.find(i)\r\n",
    "                break\r\n",
    "\r\n",
    "        var = string[start + 1 : end]\r\n",
    "        if var != \"\":\r\n",
    "            print(var)\r\n",
    "        else:\r\n",
    "            print(\"BLANK\")\r\n",
    "\r\n",
    "    else:\r\n",
    "        print(\"More than 2 uppercase chracters\")\r\n",
    "\r\n",
    "\r\n",
    "user_input = input()\r\n",
    "lower_substr(user_input)\r\n"
   ],
   "outputs": [
    {
     "output_type": "stream",
     "name": "stdout",
     "text": [
      "baNgladEsh\n",
      "glad\n"
     ]
    }
   ],
   "metadata": {}
  },
  {
   "cell_type": "code",
   "execution_count": 43,
   "source": [
    "#Problem -4\r\n",
    "\r\n",
    "\r\n",
    "def replace_word(string):\r\n",
    "    \"\"\"\r\n",
    "    Given a string, this function search for the substring \"too good\".\r\n",
    "    If it find that, then replaces the substring with another substring\r\n",
    "    \"execellent\" and returns the modified string. Otherwise, it returns \r\n",
    "    the original string\r\n",
    "    \"\"\"\r\n",
    "    # We can do the program like below which don't use replace method. Or, we can just use find and replace method.\r\n",
    "    #\r\n",
    "    #replaced_str = \"\"\r\n",
    "    #pos = -1\r\n",
    "    #for i in range(len(string)):\r\n",
    "    #    if string[i] == \"t\" and string[i + 1] == \"o\" and string[i + 2] == \"o\" and string[i + 3] == \" \" and string[i + 4] == \"g\" and string[i + 5] == \"o\" and string[i + 6] == \"o\" and string[i + 7] == \"d\":\r\n",
    "    #        pos = i\r\n",
    "    #        break\r\n",
    "    #\r\n",
    "    #\r\n",
    "    #if pos != -1:\r\n",
    "    #    replaced_str = string[:pos] + \"execellent\" + string[pos + len(\"too good\"):]\r\n",
    "    #    print(replaced_str)\r\n",
    "    #elif pos == -1:\r\n",
    "    #    print(string)\r\n",
    "        \r\n",
    "    pos = string.find(\"too good\")\r\n",
    "    if pos == -1:\r\n",
    "        print(string)\r\n",
    "    elif pos != -1:\r\n",
    "        new_str = string.replace(\"too good\", \"execellent\")\r\n",
    "        print(new_str)\r\n",
    "\r\n",
    "\r\n",
    "user_name = input()\r\n",
    "replace_word(user_name)\r\n",
    "\r\n",
    "# print(replace_word.__doc__)   # Access Docstring."
   ],
   "outputs": [
    {
     "output_type": "stream",
     "name": "stdout",
     "text": [
      "The book was not too good!\n",
      "The book was not execellent!\n"
     ]
    }
   ],
   "metadata": {}
  },
  {
   "cell_type": "code",
   "execution_count": 15,
   "source": [
    "#Problem -5\r\n",
    "\r\n",
    "\r\n",
    "def common_char(input_list):\r\n",
    "    \"\"\"\r\n",
    "    Given two strings, this function prints a new string with \r\n",
    "    the common characters of the origal two string.\r\n",
    "    \"\"\"\r\n",
    "    if len(input_list[0]) < len(input_list[1]):\r\n",
    "        ref_str = input_list[1]\r\n",
    "        str_var = input_list[0]\r\n",
    "    else:\r\n",
    "        ref_str = input_list[0]\r\n",
    "        str_var = input_list[1]\r\n",
    "\r\n",
    "    new_str = \"\"\r\n",
    "    for i in str_var:\r\n",
    "        if i in ref_str:\r\n",
    "            new_str += i\r\n",
    "\r\n",
    "    for i in ref_str:\r\n",
    "        if i in str_var:\r\n",
    "            new_str += i\r\n",
    "\r\n",
    "    if new_str == \"\":\r\n",
    "        print(\"Nothing in common\")\r\n",
    "    else:\r\n",
    "        print(new_str)\r\n",
    "\r\n",
    "\r\n",
    "user_input = input().split(\",\")\r\n",
    "common_char(user_input)\r\n",
    "\r\n",
    "# print(common_char.__doc__)   # Acess Docstring."
   ],
   "outputs": [
    {
     "output_type": "stream",
     "name": "stdout",
     "text": [
      "harry, hermione\n",
      "hrrhr\n"
     ]
    }
   ],
   "metadata": {}
  },
  {
   "cell_type": "code",
   "execution_count": 42,
   "source": [
    "# Problem -6\r\n",
    "\r\n",
    "\r\n",
    "def is_Spec_Char(character):\r\n",
    "    \"\"\"\r\n",
    "    Given a character, this function checks wheater a character is \r\n",
    "    one of the four special characters.\r\n",
    "    \"\"\"\r\n",
    "    spec_char = \"_$#@\"\r\n",
    "    if character in spec_char:\r\n",
    "        return True\r\n",
    "    else:\r\n",
    "        return False\r\n",
    "\r\n",
    "\r\n",
    "def password_checker(password):\r\n",
    "    \"\"\"\r\n",
    "    Given a password as string, this function checks wheater the password\r\n",
    "    fulfills the four requirements : \r\n",
    "                1. At least one lowercase letter\r\n",
    "                2. At least one uppercase letter\r\n",
    "                3. At least one digit (0-9)\r\n",
    "                4. At least one special character (_,$,#,@)\r\n",
    "    If the password does not fulfill the requirements if returns one of the \r\n",
    "    four specific errors. Otherwise, if all the reqirments are met, it \r\n",
    "    returns \"OK\".\r\n",
    "    \"\"\"\r\n",
    "    lower_count = sum(map(str.islower, password))\r\n",
    "    upper_count = sum(map(str.isupper, password))\r\n",
    "    digit_count = sum(map(str.isdigit, password))\r\n",
    "    spec_count = sum(map(is_Spec_Char, password))\r\n",
    "\r\n",
    "    error = \"\"\r\n",
    "    if lower_count == 0:\r\n",
    "        error = \"Lowercase Chracter Missing\"\r\n",
    "\r\n",
    "    if upper_count == 0:\r\n",
    "        if error != \"\":\r\n",
    "            error += \", \"\r\n",
    "        error += \"Uppercase Chracter Missing\"\r\n",
    "\r\n",
    "    if digit_count == 0:\r\n",
    "        if error != \"\":\r\n",
    "            error += \", \"\r\n",
    "        error += \"Digit Missing\"\r\n",
    "\r\n",
    "    if spec_count == 0:\r\n",
    "        if error != \"\":\r\n",
    "            error += \", \"\r\n",
    "        error += \"Special Chracter Missing\"\r\n",
    "\r\n",
    "    if error == \"\":\r\n",
    "        print(\"OK\")\r\n",
    "    else:\r\n",
    "        print(error)\r\n",
    "\r\n",
    "        \r\n",
    "password = input()\r\n",
    "password_checker(password)\r\n",
    "\r\n",
    "# print(password_checker.__doc__)   # Acess Docstring"
   ],
   "outputs": [
    {
     "output_type": "stream",
     "name": "stdout",
     "text": [
      "OhMyBR@CU20\n",
      "OK\n"
     ]
    }
   ],
   "metadata": {}
  },
  {
   "cell_type": "markdown",
   "source": [
    "## List Problems\n",
    "\n"
   ],
   "metadata": {}
  },
  {
   "cell_type": "code",
   "execution_count": 16,
   "source": [
    "#Problem -1\r\n",
    "\r\n",
    "\r\n",
    "def universal_list(number):\r\n",
    "    \"\"\"\r\n",
    "    Given number as string input, this function convert the string\r\n",
    "    into an integer and add the integer to the List named \"ref_list\".\r\n",
    "    \"\"\"\r\n",
    "    global ref_list\r\n",
    "    temp = [int(number)]\r\n",
    "    ref_list += temp\r\n",
    "\r\n",
    "\r\n",
    "user_input = input()\r\n",
    "ref_list = []\r\n",
    "while user_input != \"STOP\":\r\n",
    "    universal_list(user_input)\r\n",
    "    user_input = input()\r\n",
    "\r\n",
    "\r\n",
    "frequency = [[num, ref_list.count(num)] for num in ref_list]\r\n",
    "frequency = sorted(frequency, key = lambda x: x[0])   # Sorting the frequency list by the first element (number) the of the sublist\r\n",
    "\r\n",
    "sorted_frequency = []\r\n",
    "[sorted_frequency.append(item) for item in frequency if item not in sorted_frequency]   #Creating a list with unique items\r\n",
    "\r\n",
    "for inpt, outpt in sorted_frequency:\r\n",
    "    print(f\"{inpt} - {outpt} times\")\r\n"
   ],
   "outputs": [
    {
     "output_type": "stream",
     "name": "stdout",
     "text": [
      "10\n",
      "20\n",
      "20\n",
      "30\n",
      "10\n",
      "50\n",
      "90\n",
      "STOP\n",
      "10 - 2 times\n",
      "20 - 2 times\n",
      "30 - 1 times\n",
      "50 - 1 times\n",
      "90 - 1 times\n"
     ]
    }
   ],
   "metadata": {}
  },
  {
   "cell_type": "code",
   "execution_count": 37,
   "source": [
    "#Problem -2\r\n",
    "\r\n",
    "\r\n",
    "def sum_list(lst):\r\n",
    "    \"\"\"\r\n",
    "    Given a list as input, this function checks wheater the sum of given \r\n",
    "    list is maximum among the input lists.\r\n",
    "    \"\"\"\r\n",
    "    global max_sum, max_lst\r\n",
    "    lst_sum = sum(lst)\r\n",
    "    if lst_sum > max_sum:\r\n",
    "        max_sum = lst_sum\r\n",
    "        max_lst = lst\r\n",
    "\r\n",
    "\r\n",
    "N = int(input())\r\n",
    "max_sum = 0\r\n",
    "max_lst = []\r\n",
    "for i in range(N):\r\n",
    "    lst = [int(num) for num in input().split()]\r\n",
    "    sum_list(lst)\r\n",
    "\r\n",
    "print(max_sum)\r\n",
    "print(max_lst)\r\n"
   ],
   "outputs": [
    {
     "output_type": "stream",
     "name": "stdout",
     "text": [
      "4\n",
      "1 2 3\n",
      "4 5 6\n",
      "10 11 12\n",
      "7 8 9\n",
      "33\n",
      "[10, 11, 12]\n"
     ]
    }
   ],
   "metadata": {}
  },
  {
   "cell_type": "code",
   "execution_count": 43,
   "source": [
    "#Problem -3\r\n",
    "\r\n",
    "\r\n",
    "def list_multiplication(lst_1, lst_2):\r\n",
    "    \"\"\"\r\n",
    "    Given two list as input, this function returns a new list \r\n",
    "    containing the cross multiplication product between the given \r\n",
    "    two lists.\r\n",
    "    \"\"\"\r\n",
    "    return [(i * j) for i in lst_1 for j in lst_2]\r\n",
    "\r\n",
    "\r\n",
    "list_1 = [int(num) for num in input().split()]\r\n",
    "list_2 = [int(num) for num in input().split()]\r\n",
    "result = list_multiplication(list_1, list_2)\r\n",
    "print(result)\r\n"
   ],
   "outputs": [
    {
     "output_type": "stream",
     "name": "stdout",
     "text": [
      "2 3 6\n",
      "3 4 5\n",
      "[6, 8, 10, 9, 12, 15, 18, 24, 30]\n"
     ]
    }
   ],
   "metadata": {}
  },
  {
   "cell_type": "code",
   "execution_count": 35,
   "source": [
    "#Problem -4\r\n",
    "\r\n",
    "\r\n",
    "def UB_Jupmer(List):\r\n",
    "    \"\"\"\r\n",
    "    Given a list as input, this function returns True if the input \r\n",
    "    list is a UB Jumper or return False otherwise.\r\n",
    "    \"\"\"\r\n",
    "    ref_list = [num for num in range(1, len(List))]\r\n",
    "    abs_diff = []\r\n",
    "\r\n",
    "    for i in range(len(List) - 1):\r\n",
    "        elem = List[i] - List[i + 1]\r\n",
    "        elem = abs(elem)\r\n",
    "        abs_diff.append(elem)\r\n",
    "\r\n",
    "    if sorted(ref_list) == sorted(abs_diff):\r\n",
    "        return True\r\n",
    "    else:\r\n",
    "        return False\r\n",
    "\r\n",
    "\r\n",
    "user_input = input()\r\n",
    "result = []\r\n",
    "while user_input != \"STOP\":\r\n",
    "    List = [int(num) for num in user_input.split()]\r\n",
    "\r\n",
    "    if UB_Jupmer(List):\r\n",
    "        result.append(\"UB Jumper\")\r\n",
    "    else:\r\n",
    "        result.append(\"Not UB Jumper\")\r\n",
    "\r\n",
    "    user_input = input()\r\n",
    "\r\n",
    "for output in result:\r\n",
    "    print(output)\r\n"
   ],
   "outputs": [
    {
     "output_type": "stream",
     "name": "stdout",
     "text": [
      "1 4 2 3\n",
      "2 1 4 6 10\n",
      "1 4 2 -1 6\n",
      "STOP\n",
      "UB Jumper\n",
      "UB Jumper\n",
      "Not UB Jumper\n"
     ]
    }
   ],
   "metadata": {}
  },
  {
   "cell_type": "code",
   "execution_count": 34,
   "source": [
    "#Problem -5\r\n",
    "\r\n",
    "\r\n",
    "def str_sort(str):\r\n",
    "    \"\"\"\r\n",
    "    Given string as input, this function print a sorted version of \r\n",
    "    that string. The sorting is done in the following manner:\r\n",
    "          1. All sorted lowercase letters are ahead of uppercase letters.\r\n",
    "          2. All sorted uppercase letters are ahead of digits.\r\n",
    "          3. All sorted odd digits are ahead of sorted even digits.\r\n",
    "    \"\"\"\r\n",
    "    low_str, up_str, num_odd, num_even = \"\", \"\", \"\", \"\"\r\n",
    "    for char in str:\r\n",
    "        if char.islower():\r\n",
    "            low_str += char\r\n",
    "        if char.isupper():\r\n",
    "            up_str += char\r\n",
    "        if char.isdigit():\r\n",
    "            if char in [\"1\", \"3\", \"5\", \"7\", \"9\"]:\r\n",
    "                num_odd += char\r\n",
    "            else:\r\n",
    "                num_even += char\r\n",
    "\r\n",
    "    sorted_char = sorted(low_str)\r\n",
    "    low_str = \"\".join(sorted_char)\r\n",
    "\r\n",
    "    sorted_char = sorted(up_str)\r\n",
    "    up_str = \"\".join(sorted_char)\r\n",
    "\r\n",
    "    sorted_char = sorted(num_odd)\r\n",
    "    num_odd = \"\".join(sorted_char)\r\n",
    "\r\n",
    "    sorted_char = sorted(num_even)\r\n",
    "    num_even = \"\".join(sorted_char)\r\n",
    "\r\n",
    "    sorted_str = low_str + up_str + num_odd + num_even\r\n",
    "    print(sorted_str)\r\n",
    "\r\n",
    "\r\n",
    "unsorted = input()\r\n",
    "str_sort(unsorted)"
   ],
   "outputs": [
    {
     "output_type": "stream",
     "name": "stdout",
     "text": [
      "Bracu1234\n",
      "acruB1324\n"
     ]
    }
   ],
   "metadata": {}
  },
  {
   "cell_type": "code",
   "execution_count": 33,
   "source": [
    "#Problem -6\r\n",
    "\r\n",
    "\r\n",
    "member_count, times = tuple(int(num) for num in input().split())\r\n",
    "joined_data = [int(i) for i in input().split()]\r\n",
    "\r\n",
    "while len(joined_data) != member_count:\r\n",
    "    print(\r\n",
    "        \"Member count and member participation data doesn't match. Please enter member participation data again.\"\r\n",
    "    )\r\n",
    "    joined_data = [int(i) for i in input().split()]\r\n",
    "\r\n",
    "approved = [int(i) for i in joined_data if (i + times <= 5)]\r\n",
    "\r\n",
    "appr = len(approved)\r\n",
    "\r\n",
    "if appr < 3:\r\n",
    "    print(0)\r\n",
    "else:\r\n",
    "    if appr % 3 == 0:\r\n",
    "        print(appr // 3)\r\n",
    "    elif (appr - 1) % 3 == 0:\r\n",
    "        print((appr - 1) // 3)\r\n",
    "    elif (appr - 2) % 3 == 0:\r\n",
    "        print((appr - 2) // 3)\r\n"
   ],
   "outputs": [
    {
     "output_type": "stream",
     "name": "stdout",
     "text": [
      "5 2\n",
      "0 4 5 1 0\n",
      "1\n"
     ]
    }
   ],
   "metadata": {}
  },
  {
   "cell_type": "markdown",
   "source": [
    "## Dictionary & Tuple Problems\n",
    "\n"
   ],
   "metadata": {}
  },
  {
   "cell_type": "code",
   "execution_count": 32,
   "source": [
    "#Problem -1\r\n",
    "\r\n",
    "\r\n",
    "def combine_dictionaries(dict_1, dict_2):\r\n",
    "    \"\"\"\r\n",
    "    Given two dictionaries, this function returns a new dictionary\r\n",
    "    combining the two input dictionaries and adding the values for\r\n",
    "    the common key.\r\n",
    "    \"\"\"\r\n",
    "    combined_dict = {}\r\n",
    "\r\n",
    "    for key in dict_1:\r\n",
    "        if key in dict_2:\r\n",
    "            new_value = dict_1[key] + dict_2[key]\r\n",
    "        else:\r\n",
    "            new_value = dict_1[key]\r\n",
    "\r\n",
    "        combined_dict[key] = new_value\r\n",
    "\r\n",
    "    for key in dict_2:\r\n",
    "        if key not in combined_dict:\r\n",
    "            combined_dict[key] = dict_2[key]\r\n",
    "\r\n",
    "    return combined_dict\r\n",
    "\r\n",
    "\r\n",
    "str_input_1 = input()  # \"a: 100, b: 100, c: 200, d: 300\" #Question Example Inputs\r\n",
    "str_input_2 = input()  # \"a: 300, b: 200, d: 400, e: 200\" #Question Example Inputs\r\n",
    "\r\n",
    "dict_1 = dict(\r\n",
    "    (x.strip(), int(y.strip()))\r\n",
    "    for x, y in (element.split(\":\") for element in str_input_1.split(\", \"))\r\n",
    ")\r\n",
    "\r\n",
    "dict_2 = dict(\r\n",
    "    (x.strip(), int(y.strip()))\r\n",
    "    for x, y in (element.split(\":\") for element in str_input_2.split(\", \"))\r\n",
    ")\r\n",
    "\r\n",
    "result = combine_dictionaries(dict_1, dict_2)\r\n",
    "unique_value = tuple(sorted(set(result[value] for value in result)))   #Made set for removing all the duplicate, then sorted and made into a tuple.\r\n",
    "print(result)\r\n",
    "print(f\"Values: {unique_value}\")\r\n"
   ],
   "outputs": [
    {
     "output_type": "stream",
     "name": "stdout",
     "text": [
      "a: 100, b: 100, c: 200, d: 300\n",
      "a: 300, b: 200, d: 400, e: 200\n",
      "{'a': 400, 'b': 300, 'c': 200, 'd': 700, 'e': 200}\n",
      "Values: (200, 300, 400, 700)\n"
     ]
    }
   ],
   "metadata": {}
  },
  {
   "cell_type": "code",
   "execution_count": 31,
   "source": [
    "#Problem -2\r\n",
    "\r\n",
    "\r\n",
    "def input_frequency(number):\r\n",
    "    \"\"\"\r\n",
    "    Given a number string as input, this function convert the string\r\n",
    "    into an integer and add the integer to the list named \"ref_list\".\r\n",
    "    Then it returns a dictionary with the integer as its \"key\" and\r\n",
    "    how many times the integer repeated itself in the \"ref_list as \r\n",
    "    its value.\r\n",
    "    \"\"\"\r\n",
    "    global ref_list\r\n",
    "    temp = [int(number)]\r\n",
    "    ref_list += temp\r\n",
    "    frequency = dict((num, ref_list.count(num)) for num in ref_list)\r\n",
    "    return frequency\r\n",
    "\r\n",
    "\r\n",
    "user_input = input()\r\n",
    "ref_list = []\r\n",
    "while user_input != \"STOP\":\r\n",
    "    result = input_frequency(user_input)\r\n",
    "    user_input = input()\r\n",
    "\r\n",
    "inpt = result.keys()\r\n",
    "inpt = sorted(inpt)\r\n",
    "\r\n",
    "for i in inpt:\r\n",
    "    print(f\"{i} - {result[i]} times\")\r\n"
   ],
   "outputs": [
    {
     "output_type": "stream",
     "name": "stdout",
     "text": [
      "10\n",
      "20\n",
      "20\n",
      "30\n",
      "10\n",
      "50\n",
      "90\n",
      "STOP\n",
      "10 - 2 times\n",
      "20 - 2 times\n",
      "30 - 1 times\n",
      "50 - 1 times\n",
      "90 - 1 times\n"
     ]
    }
   ],
   "metadata": {}
  },
  {
   "cell_type": "code",
   "execution_count": 29,
   "source": [
    "#Problem -3\r\n",
    "\r\n",
    "\r\n",
    "def invert(dictionary):\r\n",
    "    \"\"\"\r\n",
    "    Given a dictionary as input, this function returns a new dictionary\r\n",
    "    with the \"value\" of the first dictionary as its \"key\" and a list of \r\n",
    "    \"key\" from the first dictionary as its \"value\".\r\n",
    "    \"\"\"\r\n",
    "    Dict = {}\r\n",
    "    for item1, item2 in dictionary.items():\r\n",
    "        if item2 in Dict:\r\n",
    "            Dict[item2] = Dict[item2] + [item1]\r\n",
    "        else:\r\n",
    "            Dict[item2] = [item1]\r\n",
    "            \r\n",
    "    return Dict\r\n",
    "\r\n",
    "\r\n",
    "str_input = input()  # \"Key1 : value1, Key2 : value2, key3 : value1\" #Question Input Example\r\n",
    "\r\n",
    "dictionary = dict(\r\n",
    "    (x.strip(), y.strip())\r\n",
    "    for x, y in (item.split(\":\") for item in str_input.split(\", \"))\r\n",
    ")\r\n",
    "\r\n",
    "result = invert(dictionary)\r\n",
    "print(result)\r\n"
   ],
   "outputs": [
    {
     "output_type": "stream",
     "name": "stdout",
     "text": [
      "key1 : value1, key2 : value2, key3 : value1\n",
      "{'value1': ['key1', 'key3'], 'value2': ['key2']}\n"
     ]
    }
   ],
   "metadata": {}
  },
  {
   "cell_type": "code",
   "execution_count": 5,
   "source": [
    "#Problem -4 ### Question: what about space? anagram --> nag a ram are anagram to each other.\r\n",
    "            ### Question: can a word be its own anagram without chaning the order?\r\n",
    "\r\n",
    "\r\n",
    "def count_dict(string):\r\n",
    "    \"\"\"\r\n",
    "    Given a string, this function returns a dictionary containing\r\n",
    "    the characters of the string as \"key\" and how many times the \r\n",
    "    character repeated itself as a value.\r\n",
    "    \"\"\"\r\n",
    "    dictionary = {}\r\n",
    "\r\n",
    "    for char in string:\r\n",
    "        if char == \" \":\r\n",
    "            continue\r\n",
    "        dictionary[char] = dictionary.get(char, 0) + 1\r\n",
    "\r\n",
    "    return dictionary\r\n",
    "\r\n",
    "\r\n",
    "user_input_1 = input()\r\n",
    "user_input_2 = input()\r\n",
    "\r\n",
    "dict_1 = count_dict(user_input_1)\r\n",
    "dict_2 = count_dict(user_input_2)\r\n",
    "\r\n",
    "if user_input_1 != user_input_2:\r\n",
    "    if dict_1 == dict_2:\r\n",
    "        print(\"Those strings are anagrams.\")\r\n",
    "    else:\r\n",
    "        print(\"Those strings are not anagrams.\")\r\n",
    "else:\r\n",
    "    print(\"Those strings are not anagrams.\")"
   ],
   "outputs": [
    {
     "output_type": "stream",
     "name": "stdout",
     "text": [
      "evil\n",
      "live\n",
      "Those strings are anagrams.\n"
     ]
    }
   ],
   "metadata": {}
  },
  {
   "cell_type": "code",
   "execution_count": 19,
   "source": [
    "#Problem -5\r\n",
    "\r\n",
    "\r\n",
    "def key_map(string):\r\n",
    "    \"\"\"\r\n",
    "    Given a string, this function retruns the key presses needed \r\n",
    "    for that string to be entered on some basic cell phones.\r\n",
    "    \"\"\"\r\n",
    "    key_map = {\r\n",
    "        \".\": 1, \",\": 11, \"?\": 111, \"!\": 1111, \":\": 11111,\r\n",
    "        \"A\": 2, \"B\": 22, \"C\": 222,\r\n",
    "        \"D\": 3, \"E\": 33, \"F\": 333,\r\n",
    "        \"G\": 4, \"H\": 44, \"I\": 444,\r\n",
    "        \"J\": 5, \"K\": 55, \"L\": 555,\r\n",
    "        \"M\": 6, \"N\": 66, \"O\": 666,\r\n",
    "        \"P\": 7, \"Q\": 77, \"R\": 777, \"S\": 7777,\r\n",
    "        \"T\": 8, \"U\": 88, \"V\": 888,\r\n",
    "        \"W\": 9, \"X\": 99, \"Y\": 999, \"Z\": 9999,\r\n",
    "        \" \": 0\r\n",
    "    }\r\n",
    "    map = {2: \"ABC\", 3: \"DEF\"}\r\n",
    "    \r\n",
    "\r\n",
    "    return key_map.get(string, f\"(No-Key-For:{string})\")\r\n",
    "\r\n",
    "user_input = input().upper()\r\n",
    "for char in user_input:\r\n",
    "    key = key_map(char)\r\n",
    "    print(key, end=\"\")\r\n"
   ],
   "outputs": [
    {
     "output_type": "stream",
     "name": "stdout",
     "text": [
      "Hello, World!\n",
      "4433555555666110966677755531111"
     ]
    }
   ],
   "metadata": {}
  }
 ],
 "metadata": {
  "interpreter": {
   "hash": "8af1761716a76b0e6c34e8ab1955f7d040ddbb92ce6f164b04e94823a5e7cc4b"
  },
  "kernelspec": {
   "display_name": "Python 3",
   "language": "python",
   "name": "python3"
  },
  "language_info": {
   "codemirror_mode": {
    "name": "ipython",
    "version": 3
   },
   "file_extension": ".py",
   "mimetype": "text/x-python",
   "name": "python",
   "nbconvert_exporter": "python",
   "pygments_lexer": "ipython3",
   "version": "3.9.5"
  }
 },
 "nbformat": 4,
 "nbformat_minor": 2
}